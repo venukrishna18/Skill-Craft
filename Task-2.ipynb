{
 "cells": [
  {
   "cell_type": "code",
   "execution_count": null,
   "id": "d34fb65b-47e1-4184-b7e4-c39568438e2f",
   "metadata": {},
   "outputs": [],
   "source": [
    "import pandas as pd\n",
    "import seaborn as sns\n",
    "import matplotlib.pyplot as p\n",
    "\n",
    "# Reading Dataset\n",
    "df=pd.read_csv(r\"C:\\Users\\venuk\\Downloads\\train.csv\")\n",
    "df.head()\n",
    "df.describe()\n",
    "df.info()\n",
    "df.shape\n",
    "\n",
    "# Applying EDA Technique \n",
    "df.isnull().sum()\n",
    "df[\"Embarked\"].fillna(df[\"Embarked\"].mode()[0],inplace=True)\n",
    "df[\"Age\"].fillna(df[\"Age\"].median(),inplace=True)\n",
    "df.drop(\"Cabin\",axis=1,inplace=True)\n",
    "\n",
    "# Uni-Variant Analysis\n",
    "sns.histplot(df[\"Age\"],bins=30,kde=True)\n",
    "p.title(\"Age Distribution by Passengers\")\n",
    "p.show()\n",
    "\n",
    "sns.countplot(x=\"Survived\",data=df)\n",
    "p.title(\"Survival Count\")\n",
    "p.show()\n",
    "\n",
    "# Bi-Variant Analysis\n",
    "sns.boxplot(x=\"Survived\",y=\"Age\",data=df)\n",
    "p.title(\"Survival vs Age\")\n",
    "p.show()\n",
    "\n",
    "sns.boxplot(x=\"Survived\",y=\"Fare\",data=df)\n",
    "p.title(\"Survival vs Fare\")\n",
    "p.show()\n",
    "\n",
    "#correlation heatmap\n",
    "cor=df.corr(numeric_only=True)\n",
    "sns.heatmap(cor,annot=True,cmap=\"coolwarm\")\n",
    "p.title(\"Correlation HeatMap\")\n",
    "p.show()\n",
    "\n",
    "# Exporting the cleaned data\n",
    "df.to_csv(\"t_clean.csv\",index=False)\n"
   ]
  }
 ],
 "metadata": {
  "kernelspec": {
   "display_name": "Python 3 (ipykernel)",
   "language": "python",
   "name": "python3"
  },
  "language_info": {
   "codemirror_mode": {
    "name": "ipython",
    "version": 3
   },
   "file_extension": ".py",
   "mimetype": "text/x-python",
   "name": "python",
   "nbconvert_exporter": "python",
   "pygments_lexer": "ipython3",
   "version": "3.12.7"
  }
 },
 "nbformat": 4,
 "nbformat_minor": 5
}
